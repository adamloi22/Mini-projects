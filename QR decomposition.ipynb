{
 "cells": [
  {
   "cell_type": "code",
   "execution_count": 138,
   "metadata": {},
   "outputs": [],
   "source": [
    "import numpy as np\n",
    "import matplotlib.pyplot as plt"
   ]
  },
  {
   "cell_type": "code",
   "execution_count": 139,
   "metadata": {},
   "outputs": [],
   "source": [
    "A = np.array([\n",
    "    [1., -1.],\n",
    "    [1., 0.],\n",
    "    [1., 1.],\n",
    "    [1., 2.]\n",
    "]).transpose()"
   ]
  },
  {
   "cell_type": "code",
   "execution_count": 140,
   "metadata": {},
   "outputs": [],
   "source": [
    "def QR_decompose(A):\n",
    "    M = A.copy()\n",
    "    Q = []\n",
    "    R = []\n",
    "    for i in range(len(M)):\n",
    "        #get normalised q vector\n",
    "        temp = M[i]\n",
    "        for qi in Q:\n",
    "            temp -= temp.dot(qi)*qi\n",
    "        Q.append(temp/(np.sqrt(sum(temp**2))))\n",
    "        #get r value by dot product\n",
    "        temp_r = []\n",
    "        for j in range(len(M)):\n",
    "            temp_r.append(np.array(Q[i]).dot(M[j]))\n",
    "        R.append(temp_r)\n",
    "    Q = np.array(Q)\n",
    "    R = np.array(R).transpose()\n",
    "    return Q, R\n",
    "\n",
    "def get_best_fit(Q, R, y):\n",
    "    x = np.zeros(len(R))\n",
    "    temp = y.dot(Q.transpose())\n",
    "    for i in reversed(range(len(R))):\n",
    "        temp_x = temp[i]\n",
    "        for j in reversed(range(i, len(R))):\n",
    "            if i != j:\n",
    "                temp_x -= R[j, i]*x[j]\n",
    "        x[i] = temp_x/R[i][i]           \n",
    "    return x"
   ]
  },
  {
   "cell_type": "code",
   "execution_count": 141,
   "metadata": {},
   "outputs": [
    {
     "name": "stdout",
     "output_type": "stream",
     "text": [
      "[[ 0.5         0.5         0.5         0.5       ]\n",
      " [-0.67082039 -0.2236068   0.2236068   0.67082039]]\n",
      "[[2.         0.        ]\n",
      " [1.         2.23606798]]\n"
     ]
    }
   ],
   "source": [
    "Q, R = QR_decompose(A)\n",
    "print(Q)\n",
    "print(R)"
   ]
  },
  {
   "cell_type": "code",
   "execution_count": 142,
   "metadata": {},
   "outputs": [
    {
     "name": "stdout",
     "output_type": "stream",
     "text": [
      "[1. 1.]\n"
     ]
    }
   ],
   "source": [
    "y = np.array([0.25, 1., 1.25, 3.5])\n",
    "xfit = get_best_fit(Q, R, y)\n",
    "print(xfit)"
   ]
  },
  {
   "cell_type": "code",
   "execution_count": 143,
   "metadata": {},
   "outputs": [
    {
     "data": {
      "image/png": "[encoded data removed]",
      "text/plain": [
       "<Figure size 432x288 with 1 Axes>"
      ]
     },
     "metadata": {
      "needs_background": "light"
     },
     "output_type": "display_data"
    }
   ],
   "source": [
    "#We can illustrate it:\n",
    "x = A[1]\n",
    "plt.plot(x, y)\n",
    "plt.plot(x, sum([A[i].dot(xfit[i]) for i in range(len(xfit))]))\n",
    "plt.show()"
   ]
  },
  {
   "cell_type": "code",
   "execution_count": 144,
   "metadata": {},
   "outputs": [
    {
     "name": "stdout",
     "output_type": "stream",
     "text": [
      "[1. 1.]\n"
     ]
    }
   ],
   "source": [
    "#Note that we can obtain the best fit directly by using this:\n",
    "AT = A.copy().transpose()\n",
    "xfit = np.linalg.inv((A.dot(AT))).dot(y.dot(AT))\n",
    "print(xfit)"
   ]
  },
  {
   "cell_type": "code",
   "execution_count": null,
   "metadata": {},
   "outputs": [],
   "source": []
  }
 ],
 "metadata": {
  "kernelspec": {
   "display_name": "Python 3",
   "language": "python",
   "name": "python3"
  },
  "language_info": {
   "codemirror_mode": {
    "name": "ipython",
    "version": 3
   },
   "file_extension": ".py",
   "mimetype": "text/x-python",
   "name": "python",
   "nbconvert_exporter": "python",
   "pygments_lexer": "ipython3",
   "version": "3.7.5"
  }
 },
 "nbformat": 4,
 "nbformat_minor": 2
}
