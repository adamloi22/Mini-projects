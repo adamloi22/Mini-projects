{
 "cells": [
  {
   "cell_type": "code",
   "execution_count": 172,
   "metadata": {},
   "outputs": [],
   "source": [
    "import numpy as np"
   ]
  },
  {
   "cell_type": "code",
   "execution_count": 187,
   "metadata": {},
   "outputs": [],
   "source": [
    "A = np.array(\n",
    "    [[2, 6, 4],\n",
    "     [1, 4, 3],\n",
    "     [-2, -3, 0]]\n",
    ")"
   ]
  },
  {
   "cell_type": "code",
   "execution_count": 188,
   "metadata": {},
   "outputs": [],
   "source": [
    "def LU_decompose(A):\n",
    "    L = []\n",
    "    U = []\n",
    "    for i in range(len(A)):\n",
    "        temp_col = A[i].copy()\n",
    "        temp_row = np.zeros(A.shape[1])\n",
    "        factor = 0\n",
    "        fac_row = 0\n",
    "        for j in range(A.shape[1]):\n",
    "            if A[i][j] != 0:\n",
    "                factor = A[i][j]\n",
    "                fac_row = j\n",
    "                break\n",
    "        for j in range(i, len(A)):\n",
    "            temp_row[j] = A[j][fac_row]/factor\n",
    "            A[j] = A[j] - temp_row[j]*temp_col\n",
    "        U.append(temp_col)\n",
    "        L.append(temp_row)\n",
    "    U = np.array(U).transpose()\n",
    "    L = np.array(L)\n",
    "    return L, U\n",
    "\n",
    "def solve_LU(L, U, y):\n",
    "    x = np.zeros(len(L))\n",
    "    tx = np.zeros(len(L))\n",
    "    LT = L.transpose()\n",
    "    UT = U.transpose()\n",
    "    for i in range(L.shape[1]):\n",
    "        temp = y[i]\n",
    "        for j in range(len(L)):\n",
    "            if j != i:\n",
    "                temp -= tx[j]*LT[i][j]\n",
    "        tx[i] = temp/(LT[i][i])\n",
    "    for i in reversed(range(U.shape[1])):\n",
    "        temp = tx[i]\n",
    "        for j in range(len(U)):\n",
    "            if j != i:\n",
    "                temp -= x[j]*UT[i][j]\n",
    "        x[i] = temp/(UT[i][i])\n",
    "    return x"
   ]
  },
  {
   "cell_type": "code",
   "execution_count": 190,
   "metadata": {},
   "outputs": [
    {
     "name": "stdout",
     "output_type": "stream",
     "text": [
      "[[1. 3. 2.]\n",
      " [0. 1. 1.]\n",
      " [0. 0. 1.]]\n",
      "[[ 2  0  0]\n",
      " [ 1  1  0]\n",
      " [-2  3  1]]\n"
     ]
    }
   ],
   "source": [
    "L, U = LU_decompose(A.copy().transpose())\n",
    "print(L)\n",
    "print(U)"
   ]
  },
  {
   "cell_type": "code",
   "execution_count": 176,
   "metadata": {},
   "outputs": [
    {
     "name": "stdout",
     "output_type": "stream",
     "text": [
      "[ 2. -1.  1.]\n"
     ]
    }
   ],
   "source": [
    "y = np.array([1, 5, 5])\n",
    "x = solve_LU(L, U, y)\n",
    "print(x)"
   ]
  },
  {
   "cell_type": "code",
   "execution_count": null,
   "metadata": {},
   "outputs": [],
   "source": []
  }
 ],
 "metadata": {
  "kernelspec": {
   "display_name": "Python 3",
   "language": "python",
   "name": "python3"
  },
  "language_info": {
   "codemirror_mode": {
    "name": "ipython",
    "version": 3
   },
   "file_extension": ".py",
   "mimetype": "text/x-python",
   "name": "python",
   "nbconvert_exporter": "python",
   "pygments_lexer": "ipython3",
   "version": "3.7.5"
  }
 },
 "nbformat": 4,
 "nbformat_minor": 2
}
